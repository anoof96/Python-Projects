{
 "cells": [
  {
   "cell_type": "code",
   "execution_count": null,
   "metadata": {
    "scrolled": true
   },
   "outputs": [
    {
     "name": "stdout",
     "output_type": "stream",
     "text": [
      "This is my simple calculator \n",
      "\n",
      "\n",
      "Press 1 for addition \n",
      "Press 2 for subtraction \n",
      "Press 3 for multiplication \n",
      "Press 4 for division \n",
      "Press 5 for modulus \n",
      "Press 6 for exponent division \n",
      "Press 7 for exponent multiplication \n",
      "Press 8 for exit\n",
      "Enter your chocie - 1\n",
      "\n",
      "1.Addition : \n"
     ]
    }
   ],
   "source": [
    "print(\"This is my simple calculator \\n\")\n",
    "while True:\n",
    "    print(\"\\nPress 1 for addition \")\n",
    "    print(\"Press 2 for subtraction \")\n",
    "    print(\"Press 3 for multiplication \")\n",
    "    print(\"Press 4 for division \")\n",
    "    print(\"Press 5 for modulus \")\n",
    "    print(\"Press 6 for exponent division \")\n",
    "    print(\"Press 7 for exponent multiplication \")\n",
    "    print(\"Press 8 for exit\")\n",
    "    def add():\n",
    "        result = number1 + number2\n",
    "        print(f\"The addition of {number1} and {number2} is\",result)\n",
    "    def subtract(number1, number2):\n",
    "        if number1>number2:\n",
    "            print(f\"The subtraction of {number1} and {number2} is\",number1-number2)\n",
    "        else:\n",
    "            print(f\"The subtraction of {number1} and {number2} is\",number2-number1 )\n",
    "    def multiply(number1,number2):\n",
    "        print(f\"The multiplication of {number1} and {number2} is\",number1 * number2 )\n",
    "    choice = input(\"Enter your chocie - \")\n",
    "    if choice == '1':\n",
    "        print(\"\\n1.Addition : \")\n",
    "        number1 = int(input(\"Please enter the number 1 : \"))\n",
    "        number2 = int(input(\"Please enter the number 2 : \"))\n",
    "        add()\n",
    "    elif choice == '2':\n",
    "        print(\"\\n2.Subtraction : \")\n",
    "        number1 = int(input(\"Please enter the number 1 : \"))\n",
    "        number2 = int(input(\"Please enter the number 2 : \"))\n",
    "        subtract(number1,number2)\n",
    "    elif choice == '3':\n",
    "        print(\"\\n3.Multiplication : \")\n",
    "        number1 = int(input(\"Please enter the number 1 : \"))\n",
    "        number2 = int(input(\"Please enter the number 2 : \"))\n",
    "        multiply(number1,number2)\n",
    "    elif choice == '4':\n",
    "        print(\"\\n4.Division : \")\n",
    "        number1 = int(input(\"Please enter the number 1 : \"))\n",
    "        number2 = int(input(\"Please enter the number 2 : \"))\n",
    "        print(f\"the division of {number1} and {number2} is\",number1/number2)\n",
    "    elif choice == '5':\n",
    "        print(\"\\n5.Modulus : \")\n",
    "        number1 = int(input(\"Please enter the number 1 : \"))\n",
    "        number2 = int(input(\"Please enter the number 2 : \"))\n",
    "        print(f\"the modulus of {number1} and {number2} is\",number1%number2)\n",
    "    elif choice == '6':\n",
    "        print(\"\\n6.Exponent Division : \")\n",
    "        number1 = int(input(\"Please enter the number 1 : \"))\n",
    "        number2 = int(input(\"Please enter the number 2 : \"))\n",
    "        print(f\"the exponent division of {number1} and {number2} is\",number1//number2)\n",
    "    elif choice == '7':\n",
    "        print(\"\\n7.Exponent Multiplication : \")\n",
    "        number1 = int(input(\"Please enter the number 1 : \"))\n",
    "        number2 = int(input(\"Please enter the number 2 : \"))\n",
    "        print(f\"the exponent multiplication of {number1} and {number2} is\",number1**number2)\n",
    "    elif choice == '8':\n",
    "        break\n",
    "    else:\n",
    "        print(\"Please enter a valid choice \")"
   ]
  },
  {
   "cell_type": "code",
   "execution_count": null,
   "metadata": {},
   "outputs": [],
   "source": []
  }
 ],
 "metadata": {
  "kernelspec": {
   "display_name": "Python 3",
   "language": "python",
   "name": "python3"
  },
  "language_info": {
   "codemirror_mode": {
    "name": "ipython",
    "version": 3
   },
   "file_extension": ".py",
   "mimetype": "text/x-python",
   "name": "python",
   "nbconvert_exporter": "python",
   "pygments_lexer": "ipython3",
   "version": "3.7.4"
  }
 },
 "nbformat": 4,
 "nbformat_minor": 2
}
